{
  "nbformat": 4,
  "nbformat_minor": 0,
  "metadata": {
    "colab": {
      "name": "creating json file.ipynb",
      "provenance": [],
      "collapsed_sections": []
    },
    "kernelspec": {
      "display_name": "Python 3",
      "name": "python3"
    },
    "language_info": {
      "name": "python"
    }
  },
  "cells": [
    {
      "cell_type": "markdown",
      "metadata": {
        "id": "5FR1BjWU3BXy"
      },
      "source": [
        "# **** WELCOME TO THE INVENTORY MANAGEMENT SYSTEM ****\n",
        "##  **** PART 1 ****\n",
        "## **** CREATING THE RECORD FOR THE INVENTORY ****\n",
        " \n",
        "\n",
        "---\n",
        "\n",
        "\n",
        "# PROJECT UNDER: SKILL INDIA INTERNSHIP\n",
        "# PROVIDED BY: ELITE TECHNO GROUP\n",
        "\n",
        "---\n",
        "\n",
        "##DESCRIPTION:\n",
        "\n",
        "-> An Inventory Management System allows user to manage and maintain his/her inventory with ease. \n",
        "\n",
        "-> The Inventory Management System has been developed to allow users to add an inventory, delete an inventory, enter inventory quantity and other details, update inventory status and more.\n",
        "\n",
        "-> It help in keeping the sales and billing record of every customer.  \n",
        "\n",
        "---\n",
        "## ABOUT ME:\n",
        "\n",
        "-> NAME: PRATIK THOMBRE\n",
        "\n",
        "-> COLLEGE: GOVERNMENT COLLEGE OF ENGINEERING, AURANGABAD (GECA)\n",
        "\n",
        "-> BRANCH : ELECTRONICS AND TELECOMMUNICATION (ENTC)\n",
        "\n",
        "-> INTEREST : DATA SCIENCE, IOT, AI, C PROGRAMMING, PROBLEM SOLVING, MUSIC.\n",
        "\n",
        "-> LINKED IN PROFILE: https://www.linkedin.com/in/pratik-thombre-2071361a4\n",
        "\n",
        "-> GITHUB: https://github.com/05MrNobody03\n",
        "\n",
        "---\n",
        "\n",
        "## USER GUIDE:\n",
        "\n",
        "### CASE I : ADDING/UPDATIND INVENTORY TO PRE-EXISTING record.json FILE.\n",
        "\n",
        "-> Upload the record.json file to Google Colab with help of the FILES tab present to the LEFT of the editor window.\n",
        "\n",
        "-> Once the file is successfully uploaded, then proceed directly with the 2nd cell of this FILE.\n",
        "\n",
        "-> To Enter the information about the product into the record you need to Enter the data as follows:\n",
        "\n",
        "> PRODUCT ID: This is a UNIQUE KEY to every Product present in the inventory. You would be able to access any product from in the records using this key. PLEASE NOTE THAT EVERY PRODUCT ID IS UNIQUE!\n",
        "\n",
        "> NAME OF PRODUCT: This field will help you to mention the name of the product which you desire to add to the inventory. The data given as input to this feild will be treated as a string.\n",
        "\n",
        "> PRICE OF PRODUCT: This feild will take an interger as input, which will be labelled as price of the product that you are adding to the inventory.\n",
        "\n",
        "> UNITS AVAILABLE IN INVENTORY: This feild will showcase the total number of the peices/units of product available in the inventory.\n",
        "\n",
        "> EXPIRY DATE: This feild will take a string as an input which will describe the expiry date of the product. PLEASE NOTE THAT THE INPUT FORMAT FOR THE EXPIRY DATE IS **(MM-YYYY)**.\n",
        "\n",
        "> QUANTITY OF THE PRODUCT: This feild will describe what is the quantity  of single unit of the product. \n",
        "\n",
        "-> Once you are done with adding all the new inventory details to the record.json file, you have to Enter Product ID as -1 to exit and then you can check the contains of the record.json file. You need to download the record.json file for next part of the project.\n",
        "\n",
        "\n",
        "-> CONGRATS YOUR THIS PART IS SUCCESSFULLY COMPLETED.\n",
        "\n",
        "---\n",
        "\n",
        "\n",
        "### CASE II: YOU WISH TO CREATE A NEW record.json FILE AND THEN PROCEED WITH ADDING INVENTORY TO THE SAME: \n",
        "\n",
        "-> Run the first cell to create a record.json file.\n",
        "\n",
        "-> Once the recor.json file is created then run the 2nd cell. \n",
        "\n",
        "-> Here you need to enter the information about the product that you desire to add to the inventory.\n",
        "\n",
        "-> The data that you need to enter is already mentioned in CASE 1.\n",
        "\n",
        "-> Once you are done with adding all the inventory details to the record.json file, you have to Enter Product ID as -1 to exit and then you can check the contains of the record.json file. You need to download the record.json file for next part of the project.\n",
        "\n",
        "-> CONGRATS YOUR THIS PART IS SUCCESSFULLY COMPLETED.\n",
        "\n",
        "\n"
      ]
    },
    {
      "cell_type": "markdown",
      "metadata": {
        "id": "buRKZbZK3CWk"
      },
      "source": [
        "# CREATE NEW record.json FILE\n"
      ]
    },
    {
      "cell_type": "code",
      "metadata": {
        "id": "y5HeW3NmZjoC"
      },
      "source": [
        "import json\n",
        "\n",
        "with open(\"record.json\", \"w\") as write_file:\n",
        "    json.dump({}, write_file, indent=4)                       # CREATING NEW FILE CAN TAKE SOME TIME SO KINDLY BE PATIENT"
      ],
      "execution_count": 19,
      "outputs": []
    },
    {
      "cell_type": "markdown",
      "metadata": {
        "id": "hzSBQ_emJxoq"
      },
      "source": [
        "# READING record.json FILE AND ADDING ITEMS TO IT:"
      ]
    },
    {
      "cell_type": "code",
      "metadata": {
        "colab": {
          "base_uri": "https://localhost:8080/"
        },
        "id": "DxVetW-cZdou",
        "outputId": "82749742-dee1-4bc6-e2cb-6426caefc8e6"
      },
      "source": [
        "from datetime import datetime                                                   # importing required libraries\n",
        "import pprint                                            \n",
        "import json\n",
        "\n",
        "with open('record.json') as json_file:                                          # opening the record.json and saving the data into dict_obj dictionary\n",
        "    dict_obj = json.load(json_file)\n",
        "\n",
        "pprint.pprint(dict_obj)\n",
        "\n",
        "class my_dictionary(dict):                                                      # class to insert key value pairs into dict_obj\n",
        "  \n",
        "    # __init__ function\n",
        "    def __init__(self):\n",
        "        self = dict()                                                           \n",
        "          \n",
        "    # Function to add key:value\n",
        "    def add(self, key, value):\n",
        "        self[key] = value                                                       # inserting the key value pairs\n",
        "  \n",
        "# Main Function\n",
        "\n",
        "\n",
        "print(\"Enter Id As -1 to exit!!\")                                               # to exit the data entry into the inventory\n",
        "while True:\n",
        "\n",
        "  id=int(input(\"\\nEnter the product id: \"))                                     # this will be the key for the product\n",
        "  if id<0:\n",
        "    break\n",
        "  new=my_dictionary()\n",
        "  \n",
        "  name=input(\"Enter a name: \")                                                  # Enter a string as the name of product\n",
        "  new.add(\"Name\",name)\n",
        "  \n",
        "  Price=int(input(\"Enter the Price of Product: \"))                              # Enter an integer as Pirce of product\n",
        "  new.add(\"Price\",Price)\n",
        "  \n",
        "  QuantityAvailable=int(input(\"Enter the quantity of the product available in inventory: \")) # Enter interger to showcase the quantity of the product available in the inventory\n",
        "  new.add(\"Quantity Available\",QuantityAvailable)\n",
        "  \n",
        "  \n",
        "  ExpiryDate=input(\"Enter the Expiry Date of the Product (in mm-yyyy format): \")             # Enter Expiry Date of the product in mm-yyyy format\n",
        "  new.add(\"Expiry Date\",ExpiryDate)\n",
        "\n",
        "  ProductQuantity= input(\"Enter the Quantity of the Product: \")                 # Enter the quantity present in the product. e.g. weight, no of units. etc  \n",
        "  new.add(\"Product Quantity\",ProductQuantity)\n",
        "\n",
        "  dict_obj[id]= new                                                         # adding the ID as the key and new dict as value in the dict_obj dictionary\n",
        "\n",
        "  with open(\"record.json\", \"w\") as write_file:                                  # writing content of dict_obj into record.json file\n",
        "    json.dump(dict_obj, write_file, indent=4)                                   # updating the content of record.json\n",
        "  \n",
        "pprint.pprint(dict_obj)                                                                 # once you are done with writing the file take a look at inventory successfully added to the dict_obj and record.json  \n",
        "\t\n",
        "# POINT TO NOTE::\n",
        "\n",
        "# EVEN IF YOU MADE SOME ERROR WHILE ENTERING THE DATA INTO THE INVENTORY DONT WORRY \\n\n",
        "# I GOT YOU COVERED. THE PREVIOUS ENTERED DATA WHICH IS SUCCESSFULLY ENTERED INTO THE \\n\n",
        "# INVENTORY IS SAVED INTO THE record.json . SO YOU CAN AGAIN START THE PROCESS FROM THE \\n\n",
        "# POINT YOU MADE ERROR AND NO NEED TO START FROM BEGINNING. JUST RUN THIS CELL AND ENTER \\n\n",
        "# THE CORRECT INFORMATION FOR THE PRODUCT. \n",
        "\n",
        "# YOU CAN DOWNLOAD YOU record.json FILE FROM LEFT SIDE FILES TAB.\n",
        "# HOPE YOU LIKE IT.\n",
        "# PLEASE LEAVE A COMMENT ON THE GITHUB IF POSSIBLE."
      ],
      "execution_count": 20,
      "outputs": [
        {
          "output_type": "stream",
          "name": "stdout",
          "text": [
            "{}\n",
            "Enter Id As -1 to exit!!\n",
            "\n",
            "Enter the product id: 10\n",
            "Enter a name: sdjkf\n",
            "Enter the Price of Product: 65\n",
            "Enter the quantity of the product available in inventory: 658\n",
            "Enter the Expiry Date of the Product (in mm-yyyy format): 20-2022\n",
            "Enter the Quantity of the Product: 655\n",
            "\n",
            "Enter the product id: 20\n",
            "Enter a name: pratik\n",
            "Enter the Price of Product: 36\n",
            "Enter the quantity of the product available in inventory: 56\n",
            "Enter the Expiry Date of the Product (in mm-yyyy format): 20-2022\n",
            "Enter the Quantity of the Product: 456\n",
            "\n",
            "Enter the product id: 10\n",
            "Enter a name: Pratik\n",
            "Enter the Price of Product: 2658\n",
            "Enter the quantity of the product available in inventory: 26896\n",
            "Enter the Expiry Date of the Product (in mm-yyyy format): 30-2022\n",
            "Enter the Quantity of the Product: 26\n",
            "\n",
            "Enter the product id: -1\n",
            "{10: {'Expiry Date': '30-2022',\n",
            "      'Name': 'Pratik',\n",
            "      'Price': 2658,\n",
            "      'Product Quantity': '26',\n",
            "      'Quantity Available': 26896},\n",
            " 20: {'Expiry Date': '20-2022',\n",
            "      'Name': 'pratik',\n",
            "      'Price': 36,\n",
            "      'Product Quantity': '456',\n",
            "      'Quantity Available': 56}}\n"
          ]
        }
      ]
    },
    {
      "cell_type": "markdown",
      "metadata": {
        "id": "f8dfm5ahNMY2"
      },
      "source": [
        "### **HURRAY!!! YOU ARE DONE WITH THE FIRST PART OF THE CREATING YOUR OWN INVENTORY MANAGEMENT SYSTEM.**\n",
        "\n",
        "### **JUMP TO THE NEXT PART AND LETS GET YOUR INVENTORY TO READY FOR CUSTOMER USE.**"
      ]
    }
  ]
}